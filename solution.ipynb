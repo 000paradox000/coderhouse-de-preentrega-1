{
 "cells": [
  {
   "cell_type": "markdown",
   "id": "8841fc7b-7cf8-47b2-aa4e-a5378cdfb706",
   "metadata": {},
   "source": [
    "# Solución CODERHOUSE Data Engineering Pre Entrega 1"
   ]
  },
  {
   "cell_type": "markdown",
   "id": "d092adb8-597e-4bd8-9b5a-a717472e5790",
   "metadata": {},
   "source": [
    "## Libraries"
   ]
  },
  {
   "cell_type": "code",
   "execution_count": 1,
   "id": "1f54fd32-99f4-4709-82da-a8b6a06a3e61",
   "metadata": {},
   "outputs": [],
   "source": [
    "import os"
   ]
  },
  {
   "cell_type": "code",
   "execution_count": 2,
   "id": "eaca31a4-2c7b-43a1-b590-2e67e8c471bd",
   "metadata": {},
   "outputs": [],
   "source": [
    "import requests"
   ]
  },
  {
   "cell_type": "code",
   "execution_count": 3,
   "id": "fcdd6c10-46c4-452b-b44c-71f01304d436",
   "metadata": {},
   "outputs": [],
   "source": [
    "import pandas as pd"
   ]
  },
  {
   "cell_type": "code",
   "execution_count": 4,
   "id": "e3e0ed4e-06ef-4f4f-bf4a-14a564b52d0f",
   "metadata": {},
   "outputs": [],
   "source": [
    "import psycopg2\n",
    "from psycopg2 import sql"
   ]
  },
  {
   "cell_type": "code",
   "execution_count": 5,
   "id": "99f84db4-6b8d-4c0f-b5e5-c881b321fca4",
   "metadata": {},
   "outputs": [],
   "source": [
    "from dotenv import load_dotenv"
   ]
  },
  {
   "cell_type": "markdown",
   "id": "cd157cb2-5429-4449-b9bf-608f1adc8552",
   "metadata": {},
   "source": [
    "## Cargar valores de configuración"
   ]
  },
  {
   "cell_type": "code",
   "execution_count": 6,
   "id": "46dbfa5a-b5f0-4f76-b881-984dc731de0d",
   "metadata": {},
   "outputs": [
    {
     "data": {
      "text/plain": [
       "True"
      ]
     },
     "execution_count": 6,
     "metadata": {},
     "output_type": "execute_result"
    }
   ],
   "source": [
    "load_dotenv()"
   ]
  },
  {
   "cell_type": "markdown",
   "id": "4d86e043-d2da-4b56-9cd9-553301b6057f",
   "metadata": {},
   "source": [
    "## Classes"
   ]
  },
  {
   "cell_type": "code",
   "execution_count": 7,
   "id": "214770cd-e2c6-446b-afd7-f4cba323192e",
   "metadata": {},
   "outputs": [],
   "source": [
    "class APIHandler:\n",
    "    def get_repos(self, topic: str =\"llm\") -> pd.DataFrame:\n",
    "        \"\"\"Get github repos that contain a topic value.\"\"\"\n",
    "        page = 1\n",
    "        per_page = 20\n",
    "        uri = \"api.github.com/search/repositories\"\n",
    "        url = f\"https://{uri}?q={topic}+in:name&page={page}&per_page={per_page}\"\n",
    "        headers = {\n",
    "            \"Accept\": \"application/vnd.github.v3+json\"\n",
    "        }\n",
    "        \n",
    "        response = requests.get(url, headers=headers)\n",
    "        \n",
    "        if response.status_code != 200:\n",
    "            raise ValueError(f\"Error fetching data: {response.status_code}\")\n",
    "    \n",
    "        keys = [\n",
    "            \"id\",\n",
    "            \"name\",\n",
    "            \"description\",\n",
    "            \"created_at\",\n",
    "            \"updated_at\",\n",
    "            \"html_url\",\n",
    "        ]\n",
    "        repos = response.json()[\"items\"]\n",
    "        repos =  [{key: d[key] for key in keys} for d in repos]      \n",
    "    \n",
    "        return pd.DataFrame(repos)"
   ]
  },
  {
   "cell_type": "code",
   "execution_count": 8,
   "id": "dfe4e3ba-367a-47b4-b26d-6c171d92f758",
   "metadata": {},
   "outputs": [],
   "source": [
    "class DBHandler:\n",
    "    def __init__(self) -> None:\n",
    "        self.engine = None\n",
    "\n",
    "    def _connect(self) -> None:\n",
    "        if self.engine:\n",
    "            return\n",
    "\n",
    "        host = os.environ[\"DB_HOST\"]\n",
    "        port = os.environ[\"DB_PORT\"]\n",
    "        database = os.environ[\"DB_NAME\"]\n",
    "        username = os.environ[\"DB_USERNAME\"]\n",
    "        password = os.environ[\"DB_PASSWORD\"]\n",
    "\n",
    "        self.engine = psycopg2.connect(\n",
    "            host=host,\n",
    "            dbname=database,\n",
    "            user=username,\n",
    "            password=password,\n",
    "            port=port\n",
    "        )\n",
    "        \n",
    "    def _disconnect(self) -> None:\n",
    "        if not self.engine:\n",
    "            return\n",
    "\n",
    "        self.engine.close()\n",
    "    \n",
    "    def populate(self, df: pd.DataFrame) -> None:\n",
    "        self._connect()\n",
    "        self._create_table()\n",
    "        with self.engine.cursor() as cur:\n",
    "            cur.execute(\"SELECT id FROM repos\")\n",
    "            records = cur.fetchall()\n",
    "            ids = [record[0] for record in records]\n",
    "            df_new = df[~df[\"id\"].isin(ids)]\n",
    "\n",
    "            if not df_new.empty:                           \n",
    "                data_tuples = [tuple(x) for x in df_new.to_numpy()]\n",
    "                insert_query = sql.SQL(\"INSERT INTO repos (id, name, description, created_at, updated_at, html_url) VALUES {}\").format(\n",
    "                    sql.SQL(',').join(map(sql.Literal, data_tuples))\n",
    "                )\n",
    "                cur.execute(insert_query)         \n",
    "                self.engine.commit()\n",
    "            \n",
    "        self._disconnect()\n",
    "\n",
    "    def _create_table(self):\n",
    "        with self.engine.cursor() as cur:\n",
    "            cur.execute(\"\"\"\n",
    "                CREATE TABLE IF NOT EXISTS repos (\n",
    "                    id INTEGER PRIMARY KEY,\n",
    "                    name VARCHAR(500),\n",
    "                    description VARCHAR(500) NULL,\n",
    "                    created_at TIMESTAMP,\n",
    "                    updated_at TIMESTAMP,\n",
    "                    html_url VARCHAR(500)\n",
    "                );\n",
    "            \"\"\")\n",
    "            self.engine.commit()        "
   ]
  },
  {
   "cell_type": "markdown",
   "id": "437ed9a4-825b-4dfd-8097-7fe1a43ba528",
   "metadata": {},
   "source": [
    "## Main"
   ]
  },
  {
   "cell_type": "code",
   "execution_count": 9,
   "id": "a7e239f6-a8f6-41ab-84e3-52a2d5d9f4f1",
   "metadata": {},
   "outputs": [],
   "source": [
    "api_handler = APIHandler()"
   ]
  },
  {
   "cell_type": "code",
   "execution_count": 10,
   "id": "771fa309-3ca8-4ed2-8a70-77fd049f12da",
   "metadata": {},
   "outputs": [],
   "source": [
    "repos = api_handler.get_repos()"
   ]
  },
  {
   "cell_type": "code",
   "execution_count": 11,
   "id": "8bc19183-095f-476e-8457-6bdf6aa80394",
   "metadata": {},
   "outputs": [
    {
     "data": {
      "text/html": [
       "<div>\n",
       "<style scoped>\n",
       "    .dataframe tbody tr th:only-of-type {\n",
       "        vertical-align: middle;\n",
       "    }\n",
       "\n",
       "    .dataframe tbody tr th {\n",
       "        vertical-align: top;\n",
       "    }\n",
       "\n",
       "    .dataframe thead th {\n",
       "        text-align: right;\n",
       "    }\n",
       "</style>\n",
       "<table border=\"1\" class=\"dataframe\">\n",
       "  <thead>\n",
       "    <tr style=\"text-align: right;\">\n",
       "      <th></th>\n",
       "      <th>id</th>\n",
       "      <th>name</th>\n",
       "      <th>description</th>\n",
       "      <th>created_at</th>\n",
       "      <th>updated_at</th>\n",
       "      <th>html_url</th>\n",
       "    </tr>\n",
       "  </thead>\n",
       "  <tbody>\n",
       "    <tr>\n",
       "      <th>6</th>\n",
       "      <td>603049672</td>\n",
       "      <td>Awesome-LLM</td>\n",
       "      <td>Awesome-LLM: a curated list of Large Language ...</td>\n",
       "      <td>2023-02-17T14:12:21Z</td>\n",
       "      <td>2024-01-27T01:38:18Z</td>\n",
       "      <td>https://github.com/Hannibal046/Awesome-LLM</td>\n",
       "    </tr>\n",
       "    <tr>\n",
       "      <th>11</th>\n",
       "      <td>627561173</td>\n",
       "      <td>web-llm</td>\n",
       "      <td>Bringing large-language models and chat to web...</td>\n",
       "      <td>2023-04-13T18:11:59Z</td>\n",
       "      <td>2024-01-27T01:53:27Z</td>\n",
       "      <td>https://github.com/mlc-ai/web-llm</td>\n",
       "    </tr>\n",
       "    <tr>\n",
       "      <th>13</th>\n",
       "      <td>704953704</td>\n",
       "      <td>llm</td>\n",
       "      <td>Repo for some llm fun</td>\n",
       "      <td>2023-10-14T15:58:08Z</td>\n",
       "      <td>2024-01-26T14:28:36Z</td>\n",
       "      <td>https://github.com/madhavthaker1/llm</td>\n",
       "    </tr>\n",
       "    <tr>\n",
       "      <th>7</th>\n",
       "      <td>613731840</td>\n",
       "      <td>LLMSurvey</td>\n",
       "      <td>The official GitHub page for the survey paper ...</td>\n",
       "      <td>2023-03-14T06:47:45Z</td>\n",
       "      <td>2024-01-26T20:36:08Z</td>\n",
       "      <td>https://github.com/RUCAIBox/LLMSurvey</td>\n",
       "    </tr>\n",
       "    <tr>\n",
       "      <th>14</th>\n",
       "      <td>698344263</td>\n",
       "      <td>streaming-llm</td>\n",
       "      <td>Efficient Streaming Language Models with Atten...</td>\n",
       "      <td>2023-09-29T17:45:40Z</td>\n",
       "      <td>2024-01-27T01:03:15Z</td>\n",
       "      <td>https://github.com/mit-han-lab/streaming-llm</td>\n",
       "    </tr>\n",
       "  </tbody>\n",
       "</table>\n",
       "</div>"
      ],
      "text/plain": [
       "           id           name  \\\n",
       "6   603049672    Awesome-LLM   \n",
       "11  627561173        web-llm   \n",
       "13  704953704            llm   \n",
       "7   613731840      LLMSurvey   \n",
       "14  698344263  streaming-llm   \n",
       "\n",
       "                                          description            created_at  \\\n",
       "6   Awesome-LLM: a curated list of Large Language ...  2023-02-17T14:12:21Z   \n",
       "11  Bringing large-language models and chat to web...  2023-04-13T18:11:59Z   \n",
       "13                              Repo for some llm fun  2023-10-14T15:58:08Z   \n",
       "7   The official GitHub page for the survey paper ...  2023-03-14T06:47:45Z   \n",
       "14  Efficient Streaming Language Models with Atten...  2023-09-29T17:45:40Z   \n",
       "\n",
       "              updated_at                                      html_url  \n",
       "6   2024-01-27T01:38:18Z    https://github.com/Hannibal046/Awesome-LLM  \n",
       "11  2024-01-27T01:53:27Z             https://github.com/mlc-ai/web-llm  \n",
       "13  2024-01-26T14:28:36Z          https://github.com/madhavthaker1/llm  \n",
       "7   2024-01-26T20:36:08Z         https://github.com/RUCAIBox/LLMSurvey  \n",
       "14  2024-01-27T01:03:15Z  https://github.com/mit-han-lab/streaming-llm  "
      ]
     },
     "execution_count": 11,
     "metadata": {},
     "output_type": "execute_result"
    }
   ],
   "source": [
    "repos.sample(5)"
   ]
  },
  {
   "cell_type": "code",
   "execution_count": 12,
   "id": "3063d4fa-f9fc-47da-8c78-bf490cfa60be",
   "metadata": {},
   "outputs": [],
   "source": [
    "db_handler = DBHandler()"
   ]
  },
  {
   "cell_type": "code",
   "execution_count": 13,
   "id": "fcb24d50-8293-4712-bf5b-4639714bb557",
   "metadata": {},
   "outputs": [],
   "source": [
    "db_handler.populate(repos)"
   ]
  }
 ],
 "metadata": {
  "kernelspec": {
   "display_name": "Python 3 (ipykernel)",
   "language": "python",
   "name": "python3"
  },
  "language_info": {
   "codemirror_mode": {
    "name": "ipython",
    "version": 3
   },
   "file_extension": ".py",
   "mimetype": "text/x-python",
   "name": "python",
   "nbconvert_exporter": "python",
   "pygments_lexer": "ipython3",
   "version": "3.11.7"
  }
 },
 "nbformat": 4,
 "nbformat_minor": 5
}
